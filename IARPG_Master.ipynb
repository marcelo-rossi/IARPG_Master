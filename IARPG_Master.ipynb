{
  "cells": [
    {
      "cell_type": "markdown",
      "metadata": {
        "id": "view-in-github",
        "colab_type": "text"
      },
      "source": [
        "<a href=\"https://colab.research.google.com/github/marcelo-rossi/IARPG_Master/blob/main/IARPG_Master.ipynb\" target=\"_parent\"><img src=\"https://colab.research.google.com/assets/colab-badge.svg\" alt=\"Open In Colab\"/></a>"
      ]
    },
    {
      "cell_type": "markdown",
      "metadata": {
        "id": "FKwyTRdwB8aW"
      },
      "source": [
        "## Setup"
      ]
    },
    {
      "cell_type": "markdown",
      "metadata": {
        "id": "rlE8UqxrDIez"
      },
      "source": [
        "### Install"
      ]
    },
    {
      "cell_type": "code",
      "execution_count": 1,
      "metadata": {
        "id": "cZiU4TKzznh9"
      },
      "outputs": [],
      "source": [
        "!pip install -U -q google-generativeai"
      ]
    },
    {
      "cell_type": "markdown",
      "source": [
        "### Imports"
      ],
      "metadata": {
        "id": "JWIZ56uv3ulJ"
      }
    },
    {
      "cell_type": "code",
      "execution_count": 2,
      "metadata": {
        "id": "kWIuwKG2_oWE"
      },
      "outputs": [],
      "source": [
        "# import necessary modules.\n",
        "import google.generativeai as genai\n",
        "import json\n",
        "import base64\n",
        "import pathlib\n",
        "import pprint\n",
        "import requests\n",
        "import mimetypes\n",
        "from IPython.display import Markdown\n",
        "import time\n",
        "import logging\n",
        "\n",
        "logging.getLogger('tornado.access').setLevel(logging.ERROR) # Define o nível de log para ERROR ou CRITICAL"
      ]
    },
    {
      "cell_type": "markdown",
      "metadata": {
        "id": "Fet3lFjdKHEM"
      },
      "source": [
        "### Configurando a chave da API (API key)"
      ]
    },
    {
      "cell_type": "code",
      "execution_count": 3,
      "metadata": {
        "id": "LaLCwNlkCyQd"
      },
      "outputs": [],
      "source": [
        "from google.colab import userdata\n",
        "API_KEY=userdata.get('api_key')\n",
        "genai.configure(api_key=API_KEY)"
      ]
    },
    {
      "cell_type": "markdown",
      "source": [
        "## Configurando o Modelo"
      ],
      "metadata": {
        "id": "HvXuHGQq4A68"
      }
    },
    {
      "cell_type": "code",
      "source": [
        "for m in genai.list_models():\n",
        "  if 'generateContent' in m.supported_generation_methods:\n",
        "    print(m.name)"
      ],
      "metadata": {
        "colab": {
          "base_uri": "https://localhost:8080/",
          "height": 144
        },
        "id": "ovpv9zQl4UA-",
        "outputId": "367cf817-b71c-4060-dd56-069a495c4bbc"
      },
      "execution_count": 4,
      "outputs": [
        {
          "output_type": "stream",
          "name": "stdout",
          "text": [
            "models/gemini-1.0-pro\n",
            "models/gemini-1.0-pro-001\n",
            "models/gemini-1.0-pro-latest\n",
            "models/gemini-1.0-pro-vision-latest\n",
            "models/gemini-1.5-pro-latest\n",
            "models/gemini-pro\n",
            "models/gemini-pro-vision\n"
          ]
        }
      ]
    },
    {
      "cell_type": "code",
      "source": [
        "generation_config = {\n",
        "    'candidate_count': 1,\n",
        "    'temperature': 1,\n",
        "}"
      ],
      "metadata": {
        "id": "ivfwOxcF4DrC"
      },
      "execution_count": 5,
      "outputs": []
    },
    {
      "cell_type": "code",
      "source": [
        "safety_settings = {\n",
        "    'HARASSMENT': 0,\n",
        "    'HATE': 0,\n",
        "    'SEXUAL': 0,\n",
        "    'DANGEROUS': 0,\n",
        "}"
      ],
      "metadata": {
        "id": "e3vp-rV88mmH"
      },
      "execution_count": 6,
      "outputs": []
    },
    {
      "cell_type": "code",
      "source": [
        "model = genai.GenerativeModel(\n",
        "    model_name='gemini-1.5-pro-latest',\n",
        "    generation_config=generation_config,\n",
        "    safety_settings=safety_settings\n",
        ")\n",
        "delay = 1"
      ],
      "metadata": {
        "id": "p6XK76fi6Yxd"
      },
      "execution_count": 7,
      "outputs": []
    },
    {
      "cell_type": "markdown",
      "metadata": {
        "id": "weo-o73WDpdm"
      },
      "source": [
        "## Bora pro o Jogo!"
      ]
    },
    {
      "cell_type": "markdown",
      "source": [
        "##Está a fim de se divertir.\n",
        "Que tal participar de uma aventura de RPG? Este projeto te leva a uma aventura em um ambiente medieval onde você como protagonista deseja entrar para uma guilda de ladrões, mas para isso você deverá passar pelo seu primeiro desafio antes de ser aceito. Topa jogar este jogo único criado para você e só para este momento? A cada retorno você irá curtir um jogo completamente novo. Rode o código e divirta-se"
      ],
      "metadata": {
        "id": "0VHj98JrJIlR"
      }
    },
    {
      "cell_type": "code",
      "source": [
        "chat = model.start_chat(history=[])"
      ],
      "metadata": {
        "id": "Z_-sJEgXF0LI"
      },
      "execution_count": 8,
      "outputs": []
    },
    {
      "cell_type": "code",
      "source": [
        "# Definição da variável delay\n",
        "start_delay = 1\n",
        "\n",
        "def handle_inappropriate_content(content, prompt):\n",
        "  print('Conteúdo inadequado gerado, estamos adequando ele para um jogo melhor')\n",
        "  content = 'O ultimo conteúdo que você gerou foi inapropriado. Gere um novo conteúdo baseado na história até o momento e ' + content + prompt\n",
        "  response = chat.send_message(content)\n",
        "  candidate = response.candidates[0]\n",
        "  time.sleep(delay)\n",
        "  return response, candidate\n",
        "\n",
        "def handle_send_message(content):\n",
        "  ok = False\n",
        "  delay = start_delay\n",
        "  while not ok:\n",
        "    try:\n",
        "      response = chat.send_message(content)\n",
        "      candidate = response.candidates[0]\n",
        "      time.sleep(delay)\n",
        "      ok = True\n",
        "      # delay = start_delay\n",
        "    except:\n",
        "      # error_message = f'Estamos tentando criar um bom roteiro, aguarde um momento por favor.'\n",
        "      # display(Markdown(error_message))\n",
        "      delay *= 2\n",
        "      if delay > 20:\n",
        "        delay = 20\n",
        "  return response, candidate\n",
        "\n",
        "# Início do jogo\n",
        "content = '''Você é um mestre de RPG de mesa. Desenvolva um jogo para só uma pessoa jogar com você. A partir de agora você é o chefe de uma guilda de ladrões. A sua forma de falar é a de um carioca marrento. O seu sub-chefe tem a forma de falar de um mineiro contador de proza. Invente um nome para você e para o seu sub-chefe. A partir de agora quando eu me referir a você ou eu vou te chamar pelo nome que você inventou ou vou te chamar por [Chefe]. O mesmo valor para o seu sub-chefe, no qual eu irei chamar de [Sub-Chefe] ou pelo nome que você criou. A história inicia com [Chefe] e o [Sub-Chefe] se apresentando, apresentado a guilda e falando um pouco das operações que a guia faz. O jogador está querendo entrar para a guilda. Você deve indicar que no bosque nos arredores da vila tem uma mansão e para que o jogador possa entrar na guilda ele deve roubar uma determinada joia que se encontra na mansão. Invente uma autoridade que seja o dono da mansão e de um nome para a mansão e para a autoridade. Invente qual é a joia que o jogador deve roubar, pode ser um colar, ou um anel, ou um bracelete, ou qualquer outro adorno e de um nome para esta joia. Invente um motivo para que os proprietários da mansão não estejam presentes e que a vigilância da mansão está baixa e é por isso que o momento de roubar a joia deve ser agora. Redija o texto na forma de diálogo e separe o diálogo entre parágrafos, você também deve indicar qual personagem está falando e faça isso colocando o nome dele entre [] no início do parágrafo. O [Chefe] e o [Sub-Chefe] não irão acompanhar o jogador na sua jornada se precisar narrar a cena indique [Narrador]. Ao longo do jogo você deve dar no máximo 4 opções de ações ao jogador e deve apresentar essas opções em tópicos enumerados e o jogador só vai poder escolher um número e você cria o que aconteceu na história baseado na escolha dele. A única exceção são as seções de diálogos onde poderão ter até 5 opções, sendo uma delas obrigatoriamente a opção de dialogar com os personagens. Durante os diálogos o jogador poderá fazer perguntas aos personagens e eles responderão com diálogos curtos, basicamente de no máximo 4 trocas de falas no qual os personagens encerrarão o diálogo indicando que o jogador deve agir e você, sendo o mestre do jogo, volta a apresentar as opções de ações que o jogador tem. A história se passa em um ambiente medieval, sem magia, sem tecnologia. Nenhum personagem tem conhecimento de magia ou de tecnologias que não fazem parte de um ambiente medieval. Qualquer texto que eu envie que não condiz com a história deve ser indicado que não é adequado ao contexto. Se o personagem do jogador for preso ou morto é fim de jogo. Se o jogador desistir é fim de jogo. Nunca pergunte o nome do jogador.'''\n",
        "response, candidate = handle_send_message(content)\n",
        "time.sleep(delay)\n",
        "\n",
        "# Tratar conteúdo inadequado no início\n",
        "while len(candidate.safety_ratings) == 0:\n",
        "  response, candidate = handle_inappropriate_content(content, '')\n",
        "\n",
        "display(Markdown(response.text))\n",
        "\n",
        "game_over = False\n",
        "offencive_gameplay = False\n",
        "while not game_over or not offencive_gameplay:\n",
        "  display(Markdown(\"**Escolha uma das opções ou dê a sua sugestão de ação.**\"))\n",
        "  prompt = input('O que você irá fazer? ')\n",
        "\n",
        "  # Verificar fim de jogo\n",
        "  content = 'o jogador escolheu \"' + prompt + '\" a escolha dele levou ao fim do jogo? Responda apenas sim ou não. Não gere mais conteúdo apenas responda sim ou não.'\n",
        "  response, candidate = handle_send_message(content)\n",
        "  time.sleep(delay)\n",
        "  if response.text.lower() == 'sim \\n':\n",
        "    #print('Fim de jogo!')\n",
        "    game_over = True\n",
        "\n",
        "  # Verificar conteúdo do jogador\n",
        "  content = 'o jogador escolheu \"' + prompt + '\". Analise se a mensagem dele contém linguagem inapropriada? Responda apenas sim ou não. Não gere mais conteúdo apenas responda sim ou não.'\n",
        "  response, candidate = handle_send_message(content)\n",
        "  time.sleep(delay)\n",
        "  if response.text.lower() == 'sim \\n':\n",
        "    #print('Fim de jogo!')\n",
        "    offencive_gameplay = True\n",
        "\n",
        "  # Lidar com conteúdo inadequado na verificação de fim de jogo\n",
        "  while len(candidate.safety_ratings) == 0:\n",
        "    response, candidate = handle_inappropriate_content('', prompt)\n",
        "\n",
        "  if game_over:\n",
        "\n",
        "    # Gerar final do jogo\n",
        "    content = '''Quando o jogador escolheu \"''' + prompt + '''\" você indicou que o jogo acabou. Crie um final para descrever o que aconteceu.'''\n",
        "    response, candidate = handle_send_message(content)\n",
        "    time.sleep(delay)\n",
        "\n",
        "    # Lidar com conteúdo inadequado no final do jogo\n",
        "    while len(candidate.safety_ratings) == 0:\n",
        "      response, candidate = handle_inappropriate_content(content, '')\n",
        "\n",
        "    display(Markdown(response.text))\n",
        "    break\n",
        "\n",
        "  if offencive_gameplay:\n",
        "\n",
        "    # Gerar Finalizando o jogo por ações inadequadas indicadas pelo jogador\n",
        "    content = '''O jogo acabou. Indique que o usuário desejou realizar foi algo inadquado e dê exemplo de como ele pode jogar de forma mais amistosa.'''\n",
        "    response, candidate = handle_send_message(content)\n",
        "    time.sleep(delay)\n",
        "\n",
        "    # Lidar com conteúdo inadequado no final do jogo\n",
        "    while len(candidate.safety_ratings) == 0:\n",
        "      response, candidate = handle_inappropriate_content(content, '')\n",
        "\n",
        "    display(Markdown(response.text))\n",
        "    break\n",
        "\n",
        "\n",
        "  content = '''o jogador escolheu \"''' + prompt + '''\" gere mais conteúdo para o jogo baseado na resposta dele. Independente do que o jogador escreveu forneça no máximo 4 opções de ações ao jogador e deve apresentar essas opções em tópicos enumerados e você cria o que aconteceu na história baseado na escolha dele.'''\n",
        "  response, candidate = handle_send_message(content)\n",
        "  time.sleep(delay)\n",
        "\n",
        "  # Lidar com conteúdo inadequado no novo conteúdo\n",
        "  while len(candidate.safety_ratings) == 0:\n",
        "    response, candidate = handle_inappropriate_content(content, '')\n",
        "\n",
        "  display(Markdown(response.text))"
      ],
      "metadata": {
        "id": "uS4jzGtvchOu"
      },
      "execution_count": null,
      "outputs": []
    }
  ],
  "metadata": {
    "colab": {
      "collapsed_sections": [
        "FKwyTRdwB8aW",
        "rlE8UqxrDIez",
        "JWIZ56uv3ulJ",
        "Fet3lFjdKHEM",
        "HvXuHGQq4A68"
      ],
      "provenance": [],
      "include_colab_link": true
    },
    "kernelspec": {
      "display_name": "Python 3",
      "name": "python3"
    }
  },
  "nbformat": 4,
  "nbformat_minor": 0
}